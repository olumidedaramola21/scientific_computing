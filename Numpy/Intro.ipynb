{
 "cells": [
  {
   "cell_type": "code",
   "execution_count": 1,
   "id": "8348b953",
   "metadata": {},
   "outputs": [],
   "source": [
    "import numpy as np"
   ]
  },
  {
   "cell_type": "code",
   "execution_count": null,
   "id": "2cac30fa",
   "metadata": {},
   "outputs": [],
   "source": [
    "# Numpy - Numerical python\n",
    "# ndarray = n-dimensional array"
   ]
  },
  {
   "cell_type": "code",
   "execution_count": 6,
   "id": "8d2c5cfb",
   "metadata": {},
   "outputs": [
    {
     "name": "stdout",
     "output_type": "stream",
     "text": [
      "[0 1 2 3 4 5 6 7 8 9]\n",
      "(10,)\n"
     ]
    }
   ],
   "source": [
    "np1 = np.array([0, 1, 2, 3, 4, 5, 6, 7, 8, 9])\n",
    "print(np1)\n",
    "print(np1.shape) # length of the array"
   ]
  },
  {
   "cell_type": "code",
   "execution_count": 8,
   "id": "8de1388b",
   "metadata": {},
   "outputs": [
    {
     "name": "stdout",
     "output_type": "stream",
     "text": [
      "[0 1 2 3 4 5 6 7 8 9]\n"
     ]
    }
   ],
   "source": [
    "# Range\n",
    "np2 = np.arange(10) # genreate a array within the  range specified\n",
    "print(np2)"
   ]
  },
  {
   "cell_type": "code",
   "execution_count": 12,
   "id": "fc1eea28",
   "metadata": {},
   "outputs": [
    {
     "name": "stdout",
     "output_type": "stream",
     "text": [
      "[0 2 4 6 8]\n"
     ]
    }
   ],
   "source": [
    "# Step\n",
    "np3 = np.arange(0,10, 2)\n",
    "print(np3)"
   ]
  },
  {
   "cell_type": "code",
   "execution_count": 14,
   "id": "22d04bee",
   "metadata": {},
   "outputs": [
    {
     "data": {
      "text/plain": [
       "array([0., 0., 0., 0., 0., 0., 0., 0., 0., 0.])"
      ]
     },
     "execution_count": 14,
     "metadata": {},
     "output_type": "execute_result"
    }
   ],
   "source": [
    "np4 = np.zeros(10)\n",
    "np4"
   ]
  },
  {
   "cell_type": "code",
   "execution_count": 18,
   "id": "73cbe347",
   "metadata": {},
   "outputs": [
    {
     "data": {
      "text/plain": [
       "array([[0., 0., 0., 0.],\n",
       "       [0., 0., 0., 0.],\n",
       "       [0., 0., 0., 0.]])"
      ]
     },
     "execution_count": 18,
     "metadata": {},
     "output_type": "execute_result"
    }
   ],
   "source": [
    "# multidimensional zeros\n",
    "np5 = np.zeros((3, 4))\n",
    "np5"
   ]
  },
  {
   "cell_type": "code",
   "execution_count": 20,
   "id": "d7fd4a9f",
   "metadata": {},
   "outputs": [
    {
     "data": {
      "text/plain": [
       "array([6, 6, 6, 6, 6, 6, 6, 6, 6, 6])"
      ]
     },
     "execution_count": 20,
     "metadata": {},
     "output_type": "execute_result"
    }
   ],
   "source": [
    "# full\n",
    "np6 = np.full((10), 6)\n",
    "np6"
   ]
  },
  {
   "cell_type": "code",
   "execution_count": 23,
   "id": "12a74bc7",
   "metadata": {},
   "outputs": [
    {
     "data": {
      "text/plain": [
       "array([[6, 6, 6, 6, 6, 6, 6, 6],\n",
       "       [6, 6, 6, 6, 6, 6, 6, 6]])"
      ]
     },
     "execution_count": 23,
     "metadata": {},
     "output_type": "execute_result"
    }
   ],
   "source": [
    "# Multidimensional full\n",
    "np7 = np.full(((2, 8)), 6)\n",
    "np7"
   ]
  },
  {
   "cell_type": "code",
   "execution_count": 26,
   "id": "97cd6536",
   "metadata": {},
   "outputs": [
    {
     "name": "stdout",
     "output_type": "stream",
     "text": [
      "[0 1 2 3 4 5 6 7]\n"
     ]
    }
   ],
   "source": [
    "# Convert python lists to numpy\n",
    "my_list = [0, 1, 2, 3, 4, 5, 6, 7]\n",
    "np8 = np.array(my_list)\n",
    "print(np8)"
   ]
  }
 ],
 "metadata": {
  "kernelspec": {
   "display_name": "Python 3 (ipykernel)",
   "language": "python",
   "name": "python3"
  },
  "language_info": {
   "codemirror_mode": {
    "name": "ipython",
    "version": 3
   },
   "file_extension": ".py",
   "mimetype": "text/x-python",
   "name": "python",
   "nbconvert_exporter": "python",
   "pygments_lexer": "ipython3",
   "version": "3.10.9"
  }
 },
 "nbformat": 4,
 "nbformat_minor": 5
}
