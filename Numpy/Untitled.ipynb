{
 "cells": [
  {
   "cell_type": "code",
   "execution_count": null,
   "id": "c3a930fa-1f8d-4875-8443-289dc6ca366e",
   "metadata": {},
   "outputs": [],
   "source": [
    "# Elementwise operations\n",
    "# Basic reduction\n",
    "# Broadcasting\n",
    "# Array shape manipulation\n",
    "# Sorting data\n",
    "# summary"
   ]
  },
  {
   "cell_type": "code",
   "execution_count": 36,
   "id": "cbd2b5df-f690-4a5a-8a4f-16270d0026d4",
   "metadata": {},
   "outputs": [
    {
     "data": {
      "text/plain": [
       "array([ 3,  6,  9, 12])"
      ]
     },
     "execution_count": 36,
     "metadata": {},
     "output_type": "execute_result"
    }
   ],
   "source": [
    "# Elementwise operations\n",
    "\n",
    "# with scalars\n",
    "a = np.array([1, 2,3,4])\n",
    "a + 1\n",
    "a * 3"
   ]
  },
  {
   "cell_type": "code",
   "execution_count": 44,
   "id": "bae35f7c-beda-442d-99b7-c26d0c2e97d3",
   "metadata": {},
   "outputs": [
    {
     "name": "stdout",
     "output_type": "stream",
     "text": [
      "[1 2 3 4] [2. 2. 2. 2.]\n"
     ]
    },
    {
     "data": {
      "text/plain": [
       "array([2., 4., 6., 8.])"
      ]
     },
     "execution_count": 44,
     "metadata": {},
     "output_type": "execute_result"
    }
   ],
   "source": [
    "b = np.ones(4) + 1\n",
    "print(a, b)\n",
    "a - b\n",
    "a * b\n",
    "\n"
   ]
  },
  {
   "cell_type": "code",
   "execution_count": 45,
   "id": "36b543a2-be9e-4e10-b8f8-ca7f4c32f86f",
   "metadata": {},
   "outputs": [
    {
     "data": {
      "text/plain": [
       "array([ 2,  3,  6, 13, 28])"
      ]
     },
     "execution_count": 45,
     "metadata": {},
     "output_type": "execute_result"
    }
   ],
   "source": [
    "j =  np.arange(5)\n",
    "2 ** (j + 1) - j"
   ]
  },
  {
   "cell_type": "code",
   "execution_count": 46,
   "id": "0ff642c0-6679-473d-852a-7ddfc0011fb2",
   "metadata": {},
   "outputs": [
    {
     "name": "stdout",
     "output_type": "stream",
     "text": [
      "54.5 µs ± 8.16 µs per loop (mean ± std. dev. of 7 runs, 10,000 loops each)\n"
     ]
    }
   ],
   "source": [
    "a = np.arange(10000)\n",
    "%timeit a + 1"
   ]
  },
  {
   "cell_type": "code",
   "execution_count": 47,
   "id": "de37fef6-d758-410e-b8c9-c385e21ad231",
   "metadata": {},
   "outputs": [
    {
     "data": {
      "text/plain": [
       "array([[1., 1., 1.],\n",
       "       [1., 1., 1.],\n",
       "       [1., 1., 1.]])"
      ]
     },
     "execution_count": 47,
     "metadata": {},
     "output_type": "execute_result"
    }
   ],
   "source": [
    "# Not a matrix multiplication\n",
    "c = np.ones((3, 3))\n",
    "c * c"
   ]
  },
  {
   "cell_type": "code",
   "execution_count": 48,
   "id": "368d9abb-2d54-487c-bdf4-01da0ff4b02a",
   "metadata": {},
   "outputs": [
    {
     "data": {
      "text/plain": [
       "array([[3., 3., 3.],\n",
       "       [3., 3., 3.],\n",
       "       [3., 3., 3.]])"
      ]
     },
     "execution_count": 48,
     "metadata": {},
     "output_type": "execute_result"
    }
   ],
   "source": [
    "# Matrix multiplication\n",
    "c @ c"
   ]
  },
  {
   "cell_type": "code",
   "execution_count": null,
   "id": "2730b9e9-f4c5-4343-91c4-aad7edad41db",
   "metadata": {},
   "outputs": [],
   "source": []
  }
 ],
 "metadata": {
  "kernelspec": {
   "display_name": "Python 3 (ipykernel)",
   "language": "python",
   "name": "python3"
  },
  "language_info": {
   "codemirror_mode": {
    "name": "ipython",
    "version": 3
   },
   "file_extension": ".py",
   "mimetype": "text/x-python",
   "name": "python",
   "nbconvert_exporter": "python",
   "pygments_lexer": "ipython3",
   "version": "3.11.4"
  }
 },
 "nbformat": 4,
 "nbformat_minor": 5
}
