{
 "cells": [
  {
   "cell_type": "code",
   "execution_count": 1,
   "id": "8d4a8929",
   "metadata": {},
   "outputs": [],
   "source": [
    "import numpy as np"
   ]
  },
  {
   "cell_type": "code",
   "execution_count": 2,
   "id": "6ffa5cd8",
   "metadata": {},
   "outputs": [
    {
     "data": {
      "text/plain": [
       "array([0, 1, 2, 3, 4, 5, 6, 7, 8, 9])"
      ]
     },
     "execution_count": 2,
     "metadata": {},
     "output_type": "execute_result"
    }
   ],
   "source": [
    "np1 = np.array([0,1 , 2, 3, 4, 5, 6, 7, 8, 9])\n",
    "np1"
   ]
  },
  {
   "cell_type": "code",
   "execution_count": 4,
   "id": "0c778065",
   "metadata": {},
   "outputs": [
    {
     "data": {
      "text/plain": [
       "array([2, 3, 4, 5])"
      ]
     },
     "execution_count": 4,
     "metadata": {},
     "output_type": "execute_result"
    }
   ],
   "source": [
    "np2 = np1[2: 6]\n",
    "np2"
   ]
  },
  {
   "cell_type": "code",
   "execution_count": 11,
   "id": "afdbfb57",
   "metadata": {},
   "outputs": [
    {
     "name": "stdout",
     "output_type": "stream",
     "text": [
      "[3 4 5 6 7 8 9]\n",
      "[0 1 2 3 4 5]\n",
      "[7 8]\n"
     ]
    }
   ],
   "source": [
    "# Return from something to the end of the array?\n",
    "print(np1[3:])\n",
    "print(np1[:-4])\n",
    "print(np1[-3:-1:])"
   ]
  },
  {
   "cell_type": "code",
   "execution_count": 16,
   "id": "7f4fccba",
   "metadata": {},
   "outputs": [
    {
     "data": {
      "text/plain": [
       "array([0, 2, 4, 6, 8])"
      ]
     },
     "execution_count": 16,
     "metadata": {},
     "output_type": "execute_result"
    }
   ],
   "source": [
    "# steps\n",
    "np3 = np1[1: 4: 2]\n",
    "np4 = np1[:: 2]\n",
    "np4"
   ]
  },
  {
   "cell_type": "code",
   "execution_count": 27,
   "id": "959b8ed3",
   "metadata": {},
   "outputs": [
    {
     "name": "stdout",
     "output_type": "stream",
     "text": [
      "2 5\n",
      "[[1]\n",
      " [4]]\n"
     ]
    }
   ],
   "source": [
    "# Create a 2d array\n",
    "np5 = np.array([[0, 1, 2], [3, 4, 5]])\n",
    "# pull out a single item\n",
    "print(np5[0][2], np5[1][2])\n",
    "# slice a 2d array\n",
    "print(np5[0:2, 1:2])"
   ]
  }
 ],
 "metadata": {
  "kernelspec": {
   "display_name": "Python 3 (ipykernel)",
   "language": "python",
   "name": "python3"
  },
  "language_info": {
   "codemirror_mode": {
    "name": "ipython",
    "version": 3
   },
   "file_extension": ".py",
   "mimetype": "text/x-python",
   "name": "python",
   "nbconvert_exporter": "python",
   "pygments_lexer": "ipython3",
   "version": "3.10.9"
  }
 },
 "nbformat": 4,
 "nbformat_minor": 5
}
