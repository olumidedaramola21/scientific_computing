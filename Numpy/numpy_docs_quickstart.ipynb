{
 "cells": [
  {
   "cell_type": "code",
   "execution_count": 2,
   "id": "d92a6232",
   "metadata": {},
   "outputs": [],
   "source": [
    "import numpy as np"
   ]
  },
  {
   "cell_type": "code",
   "execution_count": 5,
   "id": "933bcd63",
   "metadata": {},
   "outputs": [
    {
     "name": "stdout",
     "output_type": "stream",
     "text": [
      "[0. 0.]\n"
     ]
    }
   ],
   "source": [
    "# Creating a basic array\n",
    "a = np.zeros(2)\n",
    "a\n",
    "b = np.ones(3)\n",
    "b\n",
    "c = np.empty(2)\n",
    "print(c)"
   ]
  },
  {
   "cell_type": "code",
   "execution_count": 9,
   "id": "994332c1",
   "metadata": {},
   "outputs": [
    {
     "name": "stdout",
     "output_type": "stream",
     "text": [
      "[ 0.   2.5  5.   7.5 10. ]\n"
     ]
    }
   ],
   "source": [
    "np1 = np.arange(2, 9, 2)\n",
    "np1\n",
    "# Array spacing evenly\n",
    "np2 = np.linspace(0, 10, num=5)\n",
    "print(np2)"
   ]
  },
  {
   "cell_type": "code",
   "execution_count": 13,
   "id": "6cef5cfd",
   "metadata": {},
   "outputs": [
    {
     "data": {
      "text/plain": [
       "array([1, 1], dtype=int64)"
      ]
     },
     "execution_count": 13,
     "metadata": {},
     "output_type": "execute_result"
    }
   ],
   "source": [
    "# Specifying your data type\n",
    "np3 = np.ones(2, dtype=np.float64)\n",
    "np3\n",
    "np4 = np.ones(2, dtype=np.int64)\n",
    "np4"
   ]
  },
  {
   "cell_type": "code",
   "execution_count": 12,
   "id": "e7888541",
   "metadata": {},
   "outputs": [
    {
     "name": "stdout",
     "output_type": "stream",
     "text": [
      "[1 2 3 4 5 6 7 8]\n",
      "[1 2 3 4 5 6]\n",
      "[[1 2]\n",
      " [3 4]\n",
      " [5 6]]\n"
     ]
    }
   ],
   "source": [
    "# Adding, Removing and Sorting\n",
    "arr = np.array([2, 1, 3, 4, 5, 6, 7, 8])\n",
    "print(np.sort(arr))\n",
    "a= np.array([1, 2, 3])\n",
    "b=np.array([4,5,6])\n",
    "c = np.concatenate((a,b))\n",
    "print(c)\n",
    "x =np.array([[1,2], [3,4]])\n",
    "y=np.array([[5,6]])\n",
    "z = np.concatenate((x, y), axis=0)\n",
    "print(z)"
   ]
  },
  {
   "cell_type": "code",
   "execution_count": 20,
   "id": "3da797fe",
   "metadata": {},
   "outputs": [
    {
     "name": "stdout",
     "output_type": "stream",
     "text": [
      "24 (3, 2, 4) 3\n",
      "[[[0 1 2 3]\n",
      "  [4 5 6 7]]\n",
      "\n",
      " [[0 1 2 3]\n",
      "  [4 5 6 7]]\n",
      "\n",
      " [[0 1 2 3]\n",
      "  [4 5 6 7]]]\n"
     ]
    }
   ],
   "source": [
    "# Size and Shape of an array\n",
    "# ndarray.ndim, ndarray.size, ndarray.shape\n",
    "array_example = np.array([[[0,1,2,3], [4,5,6,7]], [[0,1,2,3], [4,5,6,7]], [[0,1,2,3], [4,5,6,7]]])\n",
    "size_of_array = np.size(array_example)\n",
    "shape_of_array = np.shape(array_example)\n",
    "dimension_of_array = np.ndim(array_example)\n",
    "print(size_of_array, shape_of_array, dimension_of_array)\n",
    "      \n",
    "print(array_example)\n"
   ]
  },
  {
   "cell_type": "code",
   "execution_count": 30,
   "id": "c87f1f60",
   "metadata": {},
   "outputs": [
    {
     "name": "stdout",
     "output_type": "stream",
     "text": [
      "[[0 1 2 3 4 5]]\n"
     ]
    }
   ],
   "source": [
    "# Reshaping an array\n",
    "arr3 = np.arange(6)\n",
    "arr3b= arr3.reshape(3,2)\n",
    "arr3c= np.reshape(arr3, newshape=(1, 6),order='C')\n",
    "print(arr3c)"
   ]
  },
  {
   "cell_type": "code",
   "execution_count": null,
   "id": "af421b27",
   "metadata": {},
   "outputs": [],
   "source": [
    "# How to convert 1D to 2D array(how to a new axis to an array)."
   ]
  }
 ],
 "metadata": {
  "kernelspec": {
   "display_name": "Python 3 (ipykernel)",
   "language": "python",
   "name": "python3"
  },
  "language_info": {
   "codemirror_mode": {
    "name": "ipython",
    "version": 3
   },
   "file_extension": ".py",
   "mimetype": "text/x-python",
   "name": "python",
   "nbconvert_exporter": "python",
   "pygments_lexer": "ipython3",
   "version": "3.10.9"
  }
 },
 "nbformat": 4,
 "nbformat_minor": 5
}
