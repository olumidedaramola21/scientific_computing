{
 "cells": [
  {
   "cell_type": "code",
   "execution_count": null,
   "id": "ca5b04b9-24f6-4a6c-b3a4-46667e1a4903",
   "metadata": {},
   "outputs": [],
   "source": []
  }
 ],
 "metadata": {
  "kernelspec": {
   "display_name": "",
   "name": ""
  },
  "language_info": {
   "name": ""
  }
 },
 "nbformat": 4,
 "nbformat_minor": 5
}
