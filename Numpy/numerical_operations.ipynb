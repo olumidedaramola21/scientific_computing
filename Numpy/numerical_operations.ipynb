{
 "cells": [
  {
   "cell_type": "code",
   "execution_count": 3,
   "id": "322dcb1d-5117-4348-baf4-0d596736d83c",
   "metadata": {},
   "outputs": [],
   "source": [
    "import numpy as np"
   ]
  },
  {
   "cell_type": "code",
   "execution_count": 10,
   "id": "c3a930fa-1f8d-4875-8443-289dc6ca366e",
   "metadata": {},
   "outputs": [
    {
     "data": {
      "text/plain": [
       "array([ True,  True, False, False])"
      ]
     },
     "execution_count": 10,
     "metadata": {},
     "output_type": "execute_result"
    }
   ],
   "source": [
    "# Basic operations\n",
    "a = np.array([20, 30, 40, 50])\n",
    "b = np.arange(4)\n",
    "c = a < 35\n",
    "c"
   ]
  },
  {
   "cell_type": "code",
   "execution_count": 16,
   "id": "418a7b00-faff-432f-a51e-834a54f5b30b",
   "metadata": {},
   "outputs": [
    {
     "data": {
      "text/plain": [
       "array([[5, 4],\n",
       "       [3, 4]])"
      ]
     },
     "execution_count": 16,
     "metadata": {},
     "output_type": "execute_result"
    }
   ],
   "source": [
    "A = np.array([[1, 1], [0, 1]])\n",
    "B = np.array([[2, 0], [3, 4]])\n",
    "# C = A * B  Element Wise\n",
    "C = A @ B  # Matrix multplication\n",
    "d = A.dot(B)  # another matrix product\n",
    "d"
   ]
  },
  {
   "cell_type": "code",
   "execution_count": 27,
   "id": "5929b8a9-350e-4ea4-9b05-4e3a2c9b601d",
   "metadata": {},
   "outputs": [],
   "source": [
    "# Some operations modify array in place \n",
    "rg = np.random.default_rng(1)  # create instance of default random number generator\n",
    "a = np.ones((2, 3), dtype=int)\n",
    "b = rg.random((2, 3))\n",
    "a *=3\n",
    "b += a # Add a to every unit of b (int => float)\n",
    "# a += b # Add b to every unit of a (float => int) Error: UFuncTypeError"
   ]
  },
  {
   "cell_type": "code",
   "execution_count": 38,
   "id": "c3d8bd94-717a-45d3-a02a-c8ac3dff2e7a",
   "metadata": {},
   "outputs": [
    {
     "data": {
      "text/plain": [
       "'complex128'"
      ]
     },
     "execution_count": 38,
     "metadata": {},
     "output_type": "execute_result"
    }
   ],
   "source": [
    "#  Upcasting: type of the result array\n",
    "a = np.ones(3, dtype=int)\n",
    "b = np.linspace(0, np.pi, 3)\n",
    "c = a + b\n",
    "c.dtype.name\n",
    "d = np.exp(c * 1j)\n",
    "d.dtype.name"
   ]
  },
  {
   "cell_type": "code",
   "execution_count": 42,
   "id": "da6bbabc-daa7-4605-b9a4-01832a90d468",
   "metadata": {},
   "outputs": [
    {
     "data": {
      "text/plain": [
       "0.9699254132161326"
      ]
     },
     "execution_count": 42,
     "metadata": {},
     "output_type": "execute_result"
    }
   ],
   "source": [
    "# Unary Operations are implemented as methods of the ndarray\n",
    "a = rg.random((2, 3))\n",
    "a.sum()\n",
    "a.min()\n",
    "a.max()"
   ]
  },
  {
   "cell_type": "code",
   "execution_count": 48,
   "id": "4857f1fd-de57-4532-8c20-40c127c8d679",
   "metadata": {},
   "outputs": [
    {
     "data": {
      "text/plain": [
       "array([[ 0,  1,  3,  6],\n",
       "       [ 4,  9, 15, 22],\n",
       "       [ 8, 17, 27, 38]])"
      ]
     },
     "execution_count": 48,
     "metadata": {},
     "output_type": "execute_result"
    }
   ],
   "source": [
    "# By specifying the axis parameter you can apply an operation along the specified axis of the array\n",
    "b = np.arange(12).reshape(3, 4)\n",
    "b.sum(axis=0) # sum of each column\n",
    "b.min(axis=1)  # min of each row\n",
    "b.cumsum(axis=1)   # cum sum on each row"
   ]
  },
  {
   "cell_type": "code",
   "execution_count": 53,
   "id": "f2e285fa-05ff-4e4d-b9b5-ac0e7778b06f",
   "metadata": {},
   "outputs": [
    {
     "data": {
      "text/plain": [
       "array([2., 0., 6.])"
      ]
     },
     "execution_count": 53,
     "metadata": {},
     "output_type": "execute_result"
    }
   ],
   "source": [
    "# Universal functions provides a family of natural functions\n",
    "# Unviral functions are sin, cos, exp\n",
    "B = np.arange(3)\n",
    "np.exp(B)\n",
    "np.sqrt(B)\n",
    "C = np.array([2., -1., 4.])\n",
    "np.add(B, C)"
   ]
  },
  {
   "cell_type": "code",
   "execution_count": 61,
   "id": "cd4f26ff-2feb-442d-af86-2a60e26ed4b4",
   "metadata": {},
   "outputs": [
    {
     "name": "stdout",
     "output_type": "stream",
     "text": [
      "9.999999999999998\n",
      "1.0\n",
      "9.999999999999998\n",
      "3.0\n",
      "9.999999999999998\n",
      "5.0\n",
      "5.999999999999999\n",
      "6.999999999999999\n",
      "7.999999999999999\n",
      "8.999999999999998\n"
     ]
    }
   ],
   "source": [
    "# Indexing, slicing and iterating\n",
    "a = np.arange(10)**3\n",
    "a[2:5]\n",
    "a[:6:2] = 1000 # from start to position 6, set every second element to 1000\n",
    "a[::-1]\n",
    "for i in a:\n",
    "    print(i **(1/3.))"
   ]
  },
  {
   "cell_type": "code",
   "execution_count": 75,
   "id": "16ffa8cd-d837-41ab-9b9b-db320ba2eb9b",
   "metadata": {},
   "outputs": [
    {
     "name": "stdout",
     "output_type": "stream",
     "text": [
      "[[ 0  1  2  3]\n",
      " [10 11 12 13]\n",
      " [20 21 22 23]\n",
      " [30 31 32 33]\n",
      " [40 41 42 43]]\n"
     ]
    },
    {
     "data": {
      "text/plain": [
       "array([[40, 41, 42, 43],\n",
       "       [30, 31, 32, 33],\n",
       "       [20, 21, 22, 23],\n",
       "       [10, 11, 12, 13],\n",
       "       [ 0,  1,  2,  3]])"
      ]
     },
     "execution_count": 75,
     "metadata": {},
     "output_type": "execute_result"
    }
   ],
   "source": [
    "# Multidimensional arrays\n",
    "def f(x, y):\n",
    "    return 10 * x + y\n",
    "b = np.fromfunction(f, (5, 4), dtype=int)\n",
    "b[2, 3]\n",
    "print(b)\n",
    "b[0:5, 1] # each row in the second column of b\n",
    "b[:, 1]   # equivalent to the previous example\n",
    "b[1:3, :] # each column in the second and third row\n",
    "b[::-1]   # reverses the array\n",
    "b[-1]  # last row"
   ]
  },
  {
   "cell_type": "code",
   "execution_count": 80,
   "id": "03d4af96-db1d-4554-9848-03e6731d89d7",
   "metadata": {},
   "outputs": [
    {
     "data": {
      "text/plain": [
       "array([[  2,  13],\n",
       "       [102, 113]])"
      ]
     },
     "execution_count": 80,
     "metadata": {},
     "output_type": "execute_result"
    }
   ],
   "source": [
    "c = np.array([[[0, 1, 2], [10, 12, 13]],\n",
    "              [[100, 101, 102], [110, 112, 113]]]) # a 3D array (two stacked 2D arrays)\n",
    "c.shape\n",
    "c[1, ...] # c[1]\n",
    "c[..., 2] # c[:, :, 2]"
   ]
  },
  {
   "cell_type": "code",
   "execution_count": 81,
   "id": "e8a4cbe5-5ea5-4313-9bb6-6e91b6c095da",
   "metadata": {},
   "outputs": [
    {
     "name": "stdout",
     "output_type": "stream",
     "text": [
      "[0 1 2 3]\n",
      "[10 11 12 13]\n",
      "[20 21 22 23]\n",
      "[30 31 32 33]\n",
      "[40 41 42 43]\n"
     ]
    }
   ],
   "source": [
    "# Iterating over multidimensional array\n",
    "for row in b:\n",
    "    print(row)"
   ]
  },
  {
   "cell_type": "code",
   "execution_count": 82,
   "id": "f55a8201-98d9-4b8f-9399-828a99c1e6ea",
   "metadata": {},
   "outputs": [
    {
     "name": "stdout",
     "output_type": "stream",
     "text": [
      "0\n",
      "1\n",
      "2\n",
      "3\n",
      "10\n",
      "11\n",
      "12\n",
      "13\n",
      "20\n",
      "21\n",
      "22\n",
      "23\n",
      "30\n",
      "31\n",
      "32\n",
      "33\n",
      "40\n",
      "41\n",
      "42\n",
      "43\n"
     ]
    }
   ],
   "source": [
    "# flatten the b array\n",
    "for element in b.flat:\n",
    "    print(element)"
   ]
  },
  {
   "cell_type": "code",
   "execution_count": null,
   "id": "1bdf5d67-fc0d-43fe-9aed-c06128c94a16",
   "metadata": {},
   "outputs": [],
   "source": [
    "# Shape Manipulation"
   ]
  },
  {
   "cell_type": "code",
   "execution_count": 86,
   "id": "4b59062a-5db4-41dd-8d38-2a0520ae1038",
   "metadata": {},
   "outputs": [
    {
     "data": {
      "text/plain": [
       "(3, 4)"
      ]
     },
     "execution_count": 86,
     "metadata": {},
     "output_type": "execute_result"
    }
   ],
   "source": [
    "# changing the shape of an array\n",
    "a =  np.floor(10 * rg.random((3, 4)))\n",
    "a.shape\n"
   ]
  },
  {
   "cell_type": "code",
   "execution_count": 94,
   "id": "f6470b3c-e4d2-4b28-8d38-12e2ce986155",
   "metadata": {},
   "outputs": [
    {
     "data": {
      "text/plain": [
       "(4, 3)"
      ]
     },
     "execution_count": 94,
     "metadata": {},
     "output_type": "execute_result"
    }
   ],
   "source": [
    "# This three comands all return a modified array\n",
    "# ravel(), reshape(), T()\n",
    "a.ravel()  #returns the array, flattened\n",
    "a.reshape(6, 2)  # returns the array with a modified shape\n",
    "a.T.shape"
   ]
  },
  {
   "cell_type": "code",
   "execution_count": 99,
   "id": "fd58b2ec-745c-4c98-9afa-97a02b3a0c11",
   "metadata": {},
   "outputs": [
    {
     "name": "stdout",
     "output_type": "stream",
     "text": [
      "[[5. 1.]\n",
      " [9. 2.]]\n",
      "[[2. 0.]\n",
      " [2. 7.]]\n"
     ]
    },
    {
     "data": {
      "text/plain": [
       "array([[5., 1., 2., 0.],\n",
       "       [9., 2., 2., 7.]])"
      ]
     },
     "execution_count": 99,
     "metadata": {},
     "output_type": "execute_result"
    }
   ],
   "source": [
    "# Stacking together differnt array\n",
    "a = np.floor(10 * rg.random((2, 2)))\n",
    "b = np.floor(10 * rg.random((2, 2)))\n",
    "print(a)\n",
    "print(b)\n",
    "np.vstack((a, b))  #stack two numpy array vertically\n",
    "np.hstack((a, b))  #stack two numpy array horizontally"
   ]
  },
  {
   "cell_type": "code",
   "execution_count": 109,
   "id": "2c7d7244-900f-4f7b-bd64-5b9a81d98700",
   "metadata": {},
   "outputs": [
    {
     "data": {
      "text/plain": [
       "array([[4., 3.],\n",
       "       [2., 8.]])"
      ]
     },
     "execution_count": 109,
     "metadata": {},
     "output_type": "execute_result"
    }
   ],
   "source": [
    "from numpy import newaxis\n",
    "np.column_stack((a, b))     # with 2D arrays\n",
    "# column_stack stacks 1D arrays into 2D arrays\n",
    "\n",
    "\n",
    "a =np.array([4., 2.])\n",
    "b = np.array([3., 8.])\n",
    "np.column_stack((a, b))    # returns a 2D array\n",
    "np.hstack((a, b))     # The result is different here\n",
    "a[:, newaxis] # views 'a' as a 2D array\n",
    "np.hstack((a[:, newaxis], b[:,newaxis]))\n"
   ]
  },
  {
   "cell_type": "markdown",
   "id": "bdee5cca-d25f-435b-9a46-ffed2f414973",
   "metadata": {},
   "source": [
    "# Copies and views"
   ]
  },
  {
   "cell_type": "code",
   "execution_count": 6,
   "id": "71abae59-e9c0-44c9-99f6-b6b4b2ffb41d",
   "metadata": {},
   "outputs": [
    {
     "data": {
      "text/plain": [
       "True"
      ]
     },
     "execution_count": 6,
     "metadata": {},
     "output_type": "execute_result"
    }
   ],
   "source": [
    "# No copies at all\n",
    "a = np.array([[0, 1, 2, 3], [4, 5, 6, 7], [8, 9, 10, 11]])\n",
    "bac = a       # No new object is created \n",
    "bac is a      # a and bac are two names for the same ndarray object"
   ]
  },
  {
   "cell_type": "code",
   "execution_count": 11,
   "id": "14b37551-a8a9-4959-a726-ae6a9f19e07b",
   "metadata": {},
   "outputs": [
    {
     "name": "stdout",
     "output_type": "stream",
     "text": [
      "2872870769872\n"
     ]
    }
   ],
   "source": [
    "import numpy as np\n",
    "def f(x):\n",
    "    print(id(x))\n",
    "\n",
    "id(a)   # id is a unique identifier for an object\n",
    "f(a)"
   ]
  },
  {
   "cell_type": "code",
   "execution_count": 32,
   "id": "0bbdf8b1-dbef-41f3-a9ba-d1c45402f3ba",
   "metadata": {},
   "outputs": [
    {
     "data": {
      "text/plain": [
       "array([[   0,   10,   10,    3],\n",
       "       [1234,   10,   10,    7],\n",
       "       [   8,   10,   10,   11]])"
      ]
     },
     "execution_count": 32,
     "metadata": {},
     "output_type": "execute_result"
    }
   ],
   "source": [
    "# Differnt array objects can share the same  data.\n",
    "# The view method creates array object that looks at the same data\n",
    "c = a.view()\n",
    "c is a    # false\n",
    "c.base is a  # True\n",
    "c.flags.owndata  # false\n",
    "\n",
    "c = c.reshape((2, 6))\n",
    "c[0, 4] = 1234\n",
    "s = a[:, 1:3] \n",
    "s[:]  = 10  # s[:] is a view of s. Note the differnce between s = 10 and s[:] = 10\n",
    "s\n",
    "a"
   ]
  },
  {
   "cell_type": "code",
   "execution_count": 38,
   "id": "bd426afa-f34b-4716-bfd6-6bf080b00484",
   "metadata": {},
   "outputs": [
    {
     "data": {
      "text/plain": [
       "array([[9999,   10,   10,    3],\n",
       "       [1234,   10,   10,    7],\n",
       "       [   8,   10,   10,   11]])"
      ]
     },
     "execution_count": 38,
     "metadata": {},
     "output_type": "execute_result"
    }
   ],
   "source": [
    "# Deep copy\n",
    "d = a.copy()  # a new data object with new data is created\n",
    "d is a # false\n",
    "d.base is a  # d doesn't share anything with a\n",
    "d[0, 0] = 9999\n",
    "d"
   ]
  },
  {
   "cell_type": "code",
   "execution_count": 43,
   "id": "9dd28be4-8ecf-4652-a6d0-7c0e35511ec4",
   "metadata": {},
   "outputs": [
    {
     "data": {
      "text/plain": [
       "array([ 0,  1,  2,  3,  4,  5,  6,  7,  8,  9, 10, 11, 12, 13, 14, 15, 16,\n",
       "       17, 18, 19, 20, 21, 22, 23, 24, 25, 26, 27, 28, 29, 30, 31, 32, 33,\n",
       "       34, 35, 36, 37, 38, 39, 40, 41, 42, 43, 44, 45, 46, 47, 48, 49, 50,\n",
       "       51, 52, 53, 54, 55, 56, 57, 58, 59, 60, 61, 62, 63, 64, 65, 66, 67,\n",
       "       68, 69, 70, 71, 72, 73, 74, 75, 76, 77, 78, 79, 80, 81, 82, 83, 84,\n",
       "       85, 86, 87, 88, 89, 90, 91, 92, 93, 94, 95, 96, 97, 98, 99])"
      ]
     },
     "execution_count": 43,
     "metadata": {},
     "output_type": "execute_result"
    }
   ],
   "source": [
    "a = np.arange(int(1e8))\n",
    "b = a[:100].copy()\n",
    "del a   # the memory of `a` can be released.\n",
    "b"
   ]
  },
  {
   "cell_type": "markdown",
   "id": "44eef3c1-5ab7-44ac-b0e2-34fa1c2f3d44",
   "metadata": {},
   "source": [
    "FUnctions and Methods overview"
   ]
  },
  {
   "cell_type": "code",
   "execution_count": null,
   "id": "cfc25cbd-de6e-4ad1-91b9-bf5cd9437427",
   "metadata": {},
   "outputs": [],
   "source": []
  }
 ],
 "metadata": {
  "kernelspec": {
   "display_name": "Python 3 (ipykernel)",
   "language": "python",
   "name": "python3"
  },
  "language_info": {
   "codemirror_mode": {
    "name": "ipython",
    "version": 3
   },
   "file_extension": ".py",
   "mimetype": "text/x-python",
   "name": "python",
   "nbconvert_exporter": "python",
   "pygments_lexer": "ipython3",
   "version": "3.11.4"
  }
 },
 "nbformat": 4,
 "nbformat_minor": 5
}
