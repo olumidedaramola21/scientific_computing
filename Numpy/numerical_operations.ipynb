{
 "cells": [
  {
   "cell_type": "code",
   "execution_count": 3,
   "id": "322dcb1d-5117-4348-baf4-0d596736d83c",
   "metadata": {},
   "outputs": [],
   "source": [
    "import numpy as np"
   ]
  },
  {
   "cell_type": "code",
   "execution_count": 10,
   "id": "c3a930fa-1f8d-4875-8443-289dc6ca366e",
   "metadata": {},
   "outputs": [
    {
     "data": {
      "text/plain": [
       "array([ True,  True, False, False])"
      ]
     },
     "execution_count": 10,
     "metadata": {},
     "output_type": "execute_result"
    }
   ],
   "source": [
    "# Basic operations\n",
    "a = np.array([20, 30, 40, 50])\n",
    "b = np.arange(4)\n",
    "c = a < 35\n",
    "c"
   ]
  },
  {
   "cell_type": "code",
   "execution_count": 16,
   "id": "418a7b00-faff-432f-a51e-834a54f5b30b",
   "metadata": {},
   "outputs": [
    {
     "data": {
      "text/plain": [
       "array([[5, 4],\n",
       "       [3, 4]])"
      ]
     },
     "execution_count": 16,
     "metadata": {},
     "output_type": "execute_result"
    }
   ],
   "source": [
    "A = np.array([[1, 1], [0, 1]])\n",
    "B = np.array([[2, 0], [3, 4]])\n",
    "# C = A * B  Element Wise\n",
    "C = A @ B  # Matrix multplication\n",
    "d = A.dot(B)  # another matrix product\n",
    "d"
   ]
  },
  {
   "cell_type": "code",
   "execution_count": 27,
   "id": "5929b8a9-350e-4ea4-9b05-4e3a2c9b601d",
   "metadata": {},
   "outputs": [],
   "source": [
    "# Some operations modify array in place \n",
    "rg = np.random.default_rng(1)  # create instance of default random number generator\n",
    "a = np.ones((2, 3), dtype=int)\n",
    "b = rg.random((2, 3))\n",
    "a *=3\n",
    "b += a # Add a to every unit of b (int => float)\n",
    "# a += b # Add b to every unit of a (float => int) Error: UFuncTypeError"
   ]
  },
  {
   "cell_type": "code",
   "execution_count": 38,
   "id": "c3d8bd94-717a-45d3-a02a-c8ac3dff2e7a",
   "metadata": {},
   "outputs": [
    {
     "data": {
      "text/plain": [
       "'complex128'"
      ]
     },
     "execution_count": 38,
     "metadata": {},
     "output_type": "execute_result"
    }
   ],
   "source": [
    "#  Upcasting: type of the result array\n",
    "a = np.ones(3, dtype=int)\n",
    "b = np.linspace(0, np.pi, 3)\n",
    "c = a + b\n",
    "c.dtype.name\n",
    "d = np.exp(c * 1j)\n",
    "d.dtype.name"
   ]
  }
 ],
 "metadata": {
  "kernelspec": {
   "display_name": "Python 3 (ipykernel)",
   "language": "python",
   "name": "python3"
  },
  "language_info": {
   "codemirror_mode": {
    "name": "ipython",
    "version": 3
   },
   "file_extension": ".py",
   "mimetype": "text/x-python",
   "name": "python",
   "nbconvert_exporter": "python",
   "pygments_lexer": "ipython3",
   "version": "3.11.4"
  }
 },
 "nbformat": 4,
 "nbformat_minor": 5
}
