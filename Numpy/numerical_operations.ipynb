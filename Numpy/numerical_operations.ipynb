{
 "cells": [
  {
   "cell_type": "code",
   "execution_count": 3,
   "id": "322dcb1d-5117-4348-baf4-0d596736d83c",
   "metadata": {},
   "outputs": [],
   "source": [
    "import numpy as np"
   ]
  },
  {
   "cell_type": "code",
   "execution_count": 10,
   "id": "c3a930fa-1f8d-4875-8443-289dc6ca366e",
   "metadata": {},
   "outputs": [
    {
     "data": {
      "text/plain": [
       "array([ True,  True, False, False])"
      ]
     },
     "execution_count": 10,
     "metadata": {},
     "output_type": "execute_result"
    }
   ],
   "source": [
    "# Basic operations\n",
    "a = np.array([20, 30, 40, 50])\n",
    "b = np.arange(4)\n",
    "c = a < 35\n",
    "c"
   ]
  },
  {
   "cell_type": "code",
   "execution_count": 16,
   "id": "418a7b00-faff-432f-a51e-834a54f5b30b",
   "metadata": {},
   "outputs": [
    {
     "data": {
      "text/plain": [
       "array([[5, 4],\n",
       "       [3, 4]])"
      ]
     },
     "execution_count": 16,
     "metadata": {},
     "output_type": "execute_result"
    }
   ],
   "source": [
    "A = np.array([[1, 1], [0, 1]])\n",
    "B = np.array([[2, 0], [3, 4]])\n",
    "# C = A * B  Element Wise\n",
    "C = A @ B  # Matrix multplication\n",
    "d = A.dot(B)  # another matrix product\n",
    "d"
   ]
  },
  {
   "cell_type": "code",
   "execution_count": 27,
   "id": "5929b8a9-350e-4ea4-9b05-4e3a2c9b601d",
   "metadata": {},
   "outputs": [],
   "source": [
    "# Some operations modify array in place \n",
    "rg = np.random.default_rng(1)  # create instance of default random number generator\n",
    "a = np.ones((2, 3), dtype=int)\n",
    "b = rg.random((2, 3))\n",
    "a *=3\n",
    "b += a # Add a to every unit of b (int => float)\n",
    "# a += b # Add b to every unit of a (float => int) Error: UFuncTypeError"
   ]
  },
  {
   "cell_type": "code",
   "execution_count": 38,
   "id": "c3d8bd94-717a-45d3-a02a-c8ac3dff2e7a",
   "metadata": {},
   "outputs": [
    {
     "data": {
      "text/plain": [
       "'complex128'"
      ]
     },
     "execution_count": 38,
     "metadata": {},
     "output_type": "execute_result"
    }
   ],
   "source": [
    "#  Upcasting: type of the result array\n",
    "a = np.ones(3, dtype=int)\n",
    "b = np.linspace(0, np.pi, 3)\n",
    "c = a + b\n",
    "c.dtype.name\n",
    "d = np.exp(c * 1j)\n",
    "d.dtype.name"
   ]
  },
  {
   "cell_type": "code",
   "execution_count": 42,
   "id": "da6bbabc-daa7-4605-b9a4-01832a90d468",
   "metadata": {},
   "outputs": [
    {
     "data": {
      "text/plain": [
       "0.9699254132161326"
      ]
     },
     "execution_count": 42,
     "metadata": {},
     "output_type": "execute_result"
    }
   ],
   "source": [
    "# Unary Operations are implemented as methods of the ndarray\n",
    "a = rg.random((2, 3))\n",
    "a.sum()\n",
    "a.min()\n",
    "a.max()"
   ]
  },
  {
   "cell_type": "code",
   "execution_count": 48,
   "id": "4857f1fd-de57-4532-8c20-40c127c8d679",
   "metadata": {},
   "outputs": [
    {
     "data": {
      "text/plain": [
       "array([[ 0,  1,  3,  6],\n",
       "       [ 4,  9, 15, 22],\n",
       "       [ 8, 17, 27, 38]])"
      ]
     },
     "execution_count": 48,
     "metadata": {},
     "output_type": "execute_result"
    }
   ],
   "source": [
    "# By specifying the axis parameter you can apply an operation along the specified axis of the array\n",
    "b = np.arange(12).reshape(3, 4)\n",
    "b.sum(axis=0) # sum of each column\n",
    "b.min(axis=1)  # min of each row\n",
    "b.cumsum(axis=1)   # cum sum on each row"
   ]
  },
  {
   "cell_type": "code",
   "execution_count": 53,
   "id": "f2e285fa-05ff-4e4d-b9b5-ac0e7778b06f",
   "metadata": {},
   "outputs": [
    {
     "data": {
      "text/plain": [
       "array([2., 0., 6.])"
      ]
     },
     "execution_count": 53,
     "metadata": {},
     "output_type": "execute_result"
    }
   ],
   "source": [
    "# Universal functions provides a family of natural functions\n",
    "# Unviral functions are sin, cos, exp\n",
    "B = np.arange(3)\n",
    "np.exp(B)\n",
    "np.sqrt(B)\n",
    "C = np.array([2., -1., 4.])\n",
    "np.add(B, C)"
   ]
  },
  {
   "cell_type": "code",
   "execution_count": 61,
   "id": "cd4f26ff-2feb-442d-af86-2a60e26ed4b4",
   "metadata": {},
   "outputs": [
    {
     "name": "stdout",
     "output_type": "stream",
     "text": [
      "9.999999999999998\n",
      "1.0\n",
      "9.999999999999998\n",
      "3.0\n",
      "9.999999999999998\n",
      "5.0\n",
      "5.999999999999999\n",
      "6.999999999999999\n",
      "7.999999999999999\n",
      "8.999999999999998\n"
     ]
    }
   ],
   "source": [
    "# Indexing, slicing and iterating\n",
    "a = np.arange(10)**3\n",
    "a[2:5]\n",
    "a[:6:2] = 1000 # from start to position 6, set every second element to 1000\n",
    "a[::-1]\n",
    "for i in a:\n",
    "    print(i **(1/3.))"
   ]
  },
  {
   "cell_type": "code",
   "execution_count": 75,
   "id": "16ffa8cd-d837-41ab-9b9b-db320ba2eb9b",
   "metadata": {},
   "outputs": [
    {
     "name": "stdout",
     "output_type": "stream",
     "text": [
      "[[ 0  1  2  3]\n",
      " [10 11 12 13]\n",
      " [20 21 22 23]\n",
      " [30 31 32 33]\n",
      " [40 41 42 43]]\n"
     ]
    },
    {
     "data": {
      "text/plain": [
       "array([[40, 41, 42, 43],\n",
       "       [30, 31, 32, 33],\n",
       "       [20, 21, 22, 23],\n",
       "       [10, 11, 12, 13],\n",
       "       [ 0,  1,  2,  3]])"
      ]
     },
     "execution_count": 75,
     "metadata": {},
     "output_type": "execute_result"
    }
   ],
   "source": [
    "# Multidimensional arrays\n",
    "def f(x, y):\n",
    "    return 10 * x + y\n",
    "b = np.fromfunction(f, (5, 4), dtype=int)\n",
    "b[2, 3]\n",
    "print(b)\n",
    "b[0:5, 1] # each row in the second column of b\n",
    "b[:, 1]   # equivalent to the previous example\n",
    "b[1:3, :] # each column in the second and third row\n",
    "b[::-1]   # reverses the array\n",
    "b[-1]  # last row"
   ]
  },
  {
   "cell_type": "code",
   "execution_count": 80,
   "id": "03d4af96-db1d-4554-9848-03e6731d89d7",
   "metadata": {},
   "outputs": [
    {
     "data": {
      "text/plain": [
       "array([[  2,  13],\n",
       "       [102, 113]])"
      ]
     },
     "execution_count": 80,
     "metadata": {},
     "output_type": "execute_result"
    }
   ],
   "source": [
    "c = np.array([[[0, 1, 2], [10, 12, 13]],\n",
    "              [[100, 101, 102], [110, 112, 113]]]) # a 3D array (two stacked 2D arrays)\n",
    "c.shape\n",
    "c[1, ...] # c[1]\n",
    "c[..., 2] # c[:, :, 2]"
   ]
  },
  {
   "cell_type": "code",
   "execution_count": 81,
   "id": "e8a4cbe5-5ea5-4313-9bb6-6e91b6c095da",
   "metadata": {},
   "outputs": [
    {
     "name": "stdout",
     "output_type": "stream",
     "text": [
      "[0 1 2 3]\n",
      "[10 11 12 13]\n",
      "[20 21 22 23]\n",
      "[30 31 32 33]\n",
      "[40 41 42 43]\n"
     ]
    }
   ],
   "source": [
    "# Iterating over multidimensional array\n",
    "for row in b:\n",
    "    print(row)"
   ]
  },
  {
   "cell_type": "code",
   "execution_count": 82,
   "id": "f55a8201-98d9-4b8f-9399-828a99c1e6ea",
   "metadata": {},
   "outputs": [
    {
     "name": "stdout",
     "output_type": "stream",
     "text": [
      "0\n",
      "1\n",
      "2\n",
      "3\n",
      "10\n",
      "11\n",
      "12\n",
      "13\n",
      "20\n",
      "21\n",
      "22\n",
      "23\n",
      "30\n",
      "31\n",
      "32\n",
      "33\n",
      "40\n",
      "41\n",
      "42\n",
      "43\n"
     ]
    }
   ],
   "source": [
    "# flatten the b array\n",
    "for element in b.flat:\n",
    "    print(element)"
   ]
  },
  {
   "cell_type": "code",
   "execution_count": null,
   "id": "1bdf5d67-fc0d-43fe-9aed-c06128c94a16",
   "metadata": {},
   "outputs": [],
   "source": [
    "# Shape Manipulation"
   ]
  },
  {
   "cell_type": "code",
   "execution_count": 86,
   "id": "4b59062a-5db4-41dd-8d38-2a0520ae1038",
   "metadata": {},
   "outputs": [
    {
     "data": {
      "text/plain": [
       "(3, 4)"
      ]
     },
     "execution_count": 86,
     "metadata": {},
     "output_type": "execute_result"
    }
   ],
   "source": [
    "# changing the shape of an array\n",
    "a =  np.floor(10 * rg.random((3, 4)))\n",
    "a.shape\n"
   ]
  },
  {
   "cell_type": "code",
   "execution_count": 94,
   "id": "f6470b3c-e4d2-4b28-8d38-12e2ce986155",
   "metadata": {},
   "outputs": [
    {
     "data": {
      "text/plain": [
       "(4, 3)"
      ]
     },
     "execution_count": 94,
     "metadata": {},
     "output_type": "execute_result"
    }
   ],
   "source": [
    "# This three comands all return a modified array\n",
    "# ravel(), reshape(), T()\n",
    "a.ravel()  #returns the array, flattened\n",
    "a.reshape(6, 2)  # returns the array with a modified shape\n",
    "a.T.shape"
   ]
  },
  {
   "cell_type": "code",
   "execution_count": 99,
   "id": "fd58b2ec-745c-4c98-9afa-97a02b3a0c11",
   "metadata": {},
   "outputs": [
    {
     "name": "stdout",
     "output_type": "stream",
     "text": [
      "[[5. 1.]\n",
      " [9. 2.]]\n",
      "[[2. 0.]\n",
      " [2. 7.]]\n"
     ]
    },
    {
     "data": {
      "text/plain": [
       "array([[5., 1., 2., 0.],\n",
       "       [9., 2., 2., 7.]])"
      ]
     },
     "execution_count": 99,
     "metadata": {},
     "output_type": "execute_result"
    }
   ],
   "source": [
    "# Stacking together differnt array\n",
    "a = np.floor(10 * rg.random((2, 2)))\n",
    "b = np.floor(10 * rg.random((2, 2)))\n",
    "print(a)\n",
    "print(b)\n",
    "np.vstack((a, b))  #stack two numpy array vertically\n",
    "np.hstack((a, b))  #stack two numpy array horizontally"
   ]
  }
 ],
 "metadata": {
  "kernelspec": {
   "display_name": "Python 3 (ipykernel)",
   "language": "python",
   "name": "python3"
  },
  "language_info": {
   "codemirror_mode": {
    "name": "ipython",
    "version": 3
   },
   "file_extension": ".py",
   "mimetype": "text/x-python",
   "name": "python",
   "nbconvert_exporter": "python",
   "pygments_lexer": "ipython3",
   "version": "3.11.4"
  }
 },
 "nbformat": 4,
 "nbformat_minor": 5
}
