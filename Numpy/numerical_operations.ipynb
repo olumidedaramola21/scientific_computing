{
 "cells": [
  {
   "cell_type": "code",
   "execution_count": null,
   "id": "c3a930fa-1f8d-4875-8443-289dc6ca366e",
   "metadata": {},
   "outputs": [],
   "source": []
  }
 ],
 "metadata": {
  "kernelspec": {
   "display_name": "",
   "name": ""
  },
  "language_info": {
   "name": ""
  }
 },
 "nbformat": 4,
 "nbformat_minor": 5
}
