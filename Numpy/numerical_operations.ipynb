{
 "cells": [
  {
   "cell_type": "code",
   "execution_count": 3,
   "id": "322dcb1d-5117-4348-baf4-0d596736d83c",
   "metadata": {},
   "outputs": [],
   "source": [
    "import numpy as np"
   ]
  },
  {
   "cell_type": "code",
   "execution_count": 10,
   "id": "c3a930fa-1f8d-4875-8443-289dc6ca366e",
   "metadata": {},
   "outputs": [
    {
     "data": {
      "text/plain": [
       "array([ True,  True, False, False])"
      ]
     },
     "execution_count": 10,
     "metadata": {},
     "output_type": "execute_result"
    }
   ],
   "source": [
    "# Basic operations\n",
    "a = np.array([20, 30, 40, 50])\n",
    "b = np.arange(4)\n",
    "c = a < 35\n",
    "c"
   ]
  },
  {
   "cell_type": "code",
   "execution_count": 16,
   "id": "418a7b00-faff-432f-a51e-834a54f5b30b",
   "metadata": {},
   "outputs": [
    {
     "data": {
      "text/plain": [
       "array([[5, 4],\n",
       "       [3, 4]])"
      ]
     },
     "execution_count": 16,
     "metadata": {},
     "output_type": "execute_result"
    }
   ],
   "source": [
    "A = np.array([[1, 1], [0, 1]])\n",
    "B = np.array([[2, 0], [3, 4]])\n",
    "# C = A * B  Element Wise\n",
    "C = A @ B  # Matrix multplication\n",
    "d = A.dot(B)  # another matrix product\n",
    "d"
   ]
  },
  {
   "cell_type": "code",
   "execution_count": 27,
   "id": "5929b8a9-350e-4ea4-9b05-4e3a2c9b601d",
   "metadata": {},
   "outputs": [],
   "source": [
    "# Some operations modify array in place \n",
    "rg = np.random.default_rng(1)  # create instance of default random number generator\n",
    "a = np.ones((2, 3), dtype=int)\n",
    "b = rg.random((2, 3))\n",
    "a *=3\n",
    "b += a # Add a to every unit of b (int => float)\n",
    "# a += b # Add b to every unit of a (float => int) Error: UFuncTypeError"
   ]
  },
  {
   "cell_type": "code",
   "execution_count": 38,
   "id": "c3d8bd94-717a-45d3-a02a-c8ac3dff2e7a",
   "metadata": {},
   "outputs": [
    {
     "data": {
      "text/plain": [
       "'complex128'"
      ]
     },
     "execution_count": 38,
     "metadata": {},
     "output_type": "execute_result"
    }
   ],
   "source": [
    "#  Upcasting: type of the result array\n",
    "a = np.ones(3, dtype=int)\n",
    "b = np.linspace(0, np.pi, 3)\n",
    "c = a + b\n",
    "c.dtype.name\n",
    "d = np.exp(c * 1j)\n",
    "d.dtype.name"
   ]
  },
  {
   "cell_type": "code",
   "execution_count": 42,
   "id": "da6bbabc-daa7-4605-b9a4-01832a90d468",
   "metadata": {},
   "outputs": [
    {
     "data": {
      "text/plain": [
       "0.9699254132161326"
      ]
     },
     "execution_count": 42,
     "metadata": {},
     "output_type": "execute_result"
    }
   ],
   "source": [
    "# Unary Operations are implemented as methods of the ndarray\n",
    "a = rg.random((2, 3))\n",
    "a.sum()\n",
    "a.min()\n",
    "a.max()"
   ]
  },
  {
   "cell_type": "code",
   "execution_count": 48,
   "id": "4857f1fd-de57-4532-8c20-40c127c8d679",
   "metadata": {},
   "outputs": [
    {
     "data": {
      "text/plain": [
       "array([[ 0,  1,  3,  6],\n",
       "       [ 4,  9, 15, 22],\n",
       "       [ 8, 17, 27, 38]])"
      ]
     },
     "execution_count": 48,
     "metadata": {},
     "output_type": "execute_result"
    }
   ],
   "source": [
    "# By specifying the axis parameter you can apply an operation along the specified axis of the array\n",
    "b = np.arange(12).reshape(3, 4)\n",
    "b.sum(axis=0) # sum of each column\n",
    "b.min(axis=1)  # min of each row\n",
    "b.cumsum(axis=1)   # cum sum on each row"
   ]
  },
  {
   "cell_type": "code",
   "execution_count": 51,
   "id": "f2e285fa-05ff-4e4d-b9b5-ac0e7778b06f",
   "metadata": {},
   "outputs": [
    {
     "data": {
      "text/plain": [
       "array([1.        , 2.71828183, 7.3890561 ])"
      ]
     },
     "execution_count": 51,
     "metadata": {},
     "output_type": "execute_result"
    }
   ],
   "source": [
    "# Universal functions provides a family of natural functions\n",
    "# Unviral functions are sin, cos, exp\n",
    "B = np.arange(3)\n",
    "np.exp(B)\n",
    "np.sqrt(B)"
   ]
  }
 ],
 "metadata": {
  "kernelspec": {
   "display_name": "Python 3 (ipykernel)",
   "language": "python",
   "name": "python3"
  },
  "language_info": {
   "codemirror_mode": {
    "name": "ipython",
    "version": 3
   },
   "file_extension": ".py",
   "mimetype": "text/x-python",
   "name": "python",
   "nbconvert_exporter": "python",
   "pygments_lexer": "ipython3",
   "version": "3.11.4"
  }
 },
 "nbformat": 4,
 "nbformat_minor": 5
}
