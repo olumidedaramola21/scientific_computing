{
 "cells": [
  {
   "cell_type": "code",
   "execution_count": 16,
   "id": "ca5b04b9-24f6-4a6c-b3a4-46667e1a4903",
   "metadata": {},
   "outputs": [
    {
     "data": {
      "text/plain": [
       "<memory at 0x000001D1A874C580>"
      ]
     },
     "execution_count": 16,
     "metadata": {},
     "output_type": "execute_result"
    }
   ],
   "source": [
    "import numpy as np\n",
    "\n",
    "a = np.arange(15).reshape(3, 5)\n",
    "a.size\n",
    "type(a)\n",
    "b = np.array([6, 7, 8])\n",
    "b.dtype.name\n",
    "b.data"
   ]
  },
  {
   "cell_type": "code",
   "execution_count": 19,
   "id": "25991ce0-a347-4801-ac77-4ece4b43f630",
   "metadata": {},
   "outputs": [],
   "source": [
    "a = np.array([1, 2, 3, 4, 5])  # array() takes 1 or 2 provisional argument"
   ]
  },
  {
   "cell_type": "code",
   "execution_count": 20,
   "id": "fe6b15d9-a945-45e8-a891-50489ed5280f",
   "metadata": {},
   "outputs": [
    {
     "data": {
      "text/plain": [
       "array([[1.5, 2. , 3. ],\n",
       "       [4. , 5. , 6. ]])"
      ]
     },
     "execution_count": 20,
     "metadata": {},
     "output_type": "execute_result"
    }
   ],
   "source": [
    "# sequence of sequences into two-dimensional arrays\n",
    "a = np.array([(1.5, 2, 3), (4, 5, 6)])\n",
    "a"
   ]
  },
  {
   "cell_type": "code",
   "execution_count": 21,
   "id": "92622399-14f9-43a4-b9fe-dc773320edbc",
   "metadata": {},
   "outputs": [
    {
     "data": {
      "text/plain": [
       "array([[1.+0.j, 2.+0.j],\n",
       "       [3.+0.j, 4.+0.j]])"
      ]
     },
     "execution_count": 21,
     "metadata": {},
     "output_type": "execute_result"
    }
   ],
   "source": [
    "c = np.array([[1, 2], [3, 4]], dtype=complex)\n",
    "c"
   ]
  },
  {
   "cell_type": "code",
   "execution_count": null,
   "id": "44ea933b-fd94-44c3-b843-354e5da765f6",
   "metadata": {},
   "outputs": [],
   "source": []
  },
  {
   "cell_type": "code",
   "execution_count": 37,
   "id": "a421c266-a435-4970-b4bb-bf4ad09fe0e9",
   "metadata": {},
   "outputs": [
    {
     "data": {
      "image/png": "[encoded data removed]",
      "text/plain": [
       "<Figure size 600x300 with 2 Axes>"
      ]
     },
     "metadata": {},
     "output_type": "display_data"
    }
   ],
   "source": [
    "# Visualizing 2D array\n",
    "import matplotlib.pyplot as plt\n",
    "# c = np.array([[1, 2], [3, 4]], dtype=complex)\n",
    "\n",
    "plt.figure(figsize=(6,3))\n",
    "plt.imshow(a, cmap='viridis', interpolation='nearest')\n",
    "plt.colorbar()\n",
    "plt.title('2D Array Heatmap')\n",
    "plt.show()"
   ]
  },
  {
   "cell_type": "code",
   "execution_count": null,
   "id": "19718844-fab9-4aef-afc9-1b4794e82014",
   "metadata": {},
   "outputs": [],
   "source": []
  }
 ],
 "metadata": {
  "kernelspec": {
   "display_name": "Python 3 (ipykernel)",
   "language": "python",
   "name": "python3"
  },
  "language_info": {
   "codemirror_mode": {
    "name": "ipython",
    "version": 3
   },
   "file_extension": ".py",
   "mimetype": "text/x-python",
   "name": "python",
   "nbconvert_exporter": "python",
   "pygments_lexer": "ipython3",
   "version": "3.11.4"
  }
 },
 "nbformat": 4,
 "nbformat_minor": 5
}
